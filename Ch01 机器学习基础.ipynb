{
 "cells": [
  {
   "cell_type": "markdown",
   "id": "48d5d6ce",
   "metadata": {},
   "source": [
    "# 第1章 机器学习基础\n",
    "\n",
    "## 1.1 机器学习的主要任务\n",
    "\n",
    "监督学习\n",
    "\n",
    "| 算法           | 用途              |\n",
    "| -------------- | ----------------- |\n",
    "| k-近邻算法     | 线性回归          |\n",
    "| 朴素贝叶斯算法 | 局部加权线性回归  |\n",
    "| 支持向量机     | Ridge回归         |\n",
    "| 决策树         | Lasso最小回归系数 |\n",
    "\n",
    "无监督学习\n",
    "\n",
    "| 算法   | 用途         |\n",
    "| ------ | ------------ |\n",
    "| K-均值 | 最大期望算法 |\n",
    "| DBSCAN | Parzen窗设计 |\n",
    "\n",
    "## 1.2 如何选择合适的算法\n",
    "\n",
    "伪代码如下："
   ]
  },
  {
   "cell_type": "code",
   "execution_count": null,
   "id": "54ec743a",
   "metadata": {},
   "outputs": [],
   "source": [
    "if 预测目标变量的值==监督学习：\n",
    "    if 目标是离散的：\n",
    "        分类算法\n",
    "    else:\n",
    "        回归算法\n",
    "        \n",
    "else 无监督学习：\n",
    "    if 目标是离散的：\n",
    "        密度估计\n",
    "    else:\n",
    "        聚类"
   ]
  },
  {
   "cell_type": "markdown",
   "id": "1bd4db08",
   "metadata": {},
   "source": [
    "\n",
    "## 1.3 Numpy库复习"
   ]
  },
  {
   "cell_type": "code",
   "execution_count": null,
   "id": "bd4cf0a7",
   "metadata": {},
   "outputs": [],
   "source": [
    "import numpy as np\n",
    "from numpy import random\n",
    "\n",
    "\n",
    "# 生成随机numpy\n",
    "my_data = np.random.rand(4, 4) # 0~1之间的4*4 ndarray\n",
    "np.random.randint(0,100, 1000) # 生成0～100之间的1000个数。\n",
    "\n",
    "\n",
    "# 每个属性的最小值: 1代表返回shape[0]个最小值，每个值对应每行shape[1]个值中最大的；\n",
    "# 0 返回shape[1]个最小值，每个值对应每行shape[0]个值中最大的。\n",
    "np_min = my_data.min(1)\n",
    "# 全局最小值，返回单个值\n",
    "miner = np.amin(my_data)\n",
    "\n",
    "\n",
    "# 每个属性的最大值\n",
    "np_max = my_data.max(1)\n",
    "# 全局最大值\n",
    "np_max = np.amax(my_data)\n",
    "\n",
    "\n",
    "# mat 将数组转为矩阵\n",
    "randMat = np.mat(random.rand(4, 4))\n",
    "# 矩阵求逆\n",
    "invrandMat = randMat.I\n",
    "# 矩阵乘法\n",
    "randMat*invrandMat\n",
    "\n",
    "\n",
    "# 将target的属性，复制2份\n",
    "target = random.rand(4, 4)\n",
    "result = np.tile(target, 2)\n",
    "# 将target的属性，复制2份；然后将target的行数复制3份\n",
    "np.tile(target, (3, 2))\n",
    "\n",
    "# 0代表从横轴选取最小(大)值，返回ndarray(属性数,)类型\n",
    "arr_random.min(0)\n",
    "arr_random.max(0)\n",
    "\n",
    "\n",
    "\n",
    "# 纵向合并数据，即列往后添加\n",
    "arr_min = np.concatenate((arr_min, arr_zero), axis=1)\n",
    "\n",
    "\n",
    "# 生成一个【0，3】的3X3矩阵\n",
    "my_data = np.random.randint(0, 3, (3, 3))\n",
    "# 会返回True或者False组成的ndarray, 这是我们进行条件查询的依据\n",
    "my_data[:,0]==1\n",
    "\n",
    "\n",
    "# 返回第一列等于1的ndarray\n",
    "my_query = my_data[my_data[:,0]==1]"
   ]
  },
  {
   "cell_type": "markdown",
   "id": "53a36d9c",
   "metadata": {},
   "source": [
    "## 1.4 matlab绘图"
   ]
  },
  {
   "cell_type": "code",
   "execution_count": 12,
   "id": "db6dadac",
   "metadata": {},
   "outputs": [
    {
     "data": {
      "text/plain": [
       "<matplotlib.collections.PathCollection at 0x10a9914f0>"
      ]
     },
     "execution_count": 12,
     "metadata": {},
     "output_type": "execute_result"
    },
    {
     "data": {
      "image/png": "[encoded data removed]",
      "text/plain": [
       "<Figure size 432x288 with 1 Axes>"
      ]
     },
     "metadata": {
      "needs_background": "light"
     },
     "output_type": "display_data"
    }
   ],
   "source": [
    "from matplotlib import pyplot as plt\n",
    "\n",
    "# 散点图\n",
    "fig = plt.figure()\n",
    "ax = fig.add_subplot(111) # 此处111暂时可理解为固定值\n",
    "\n",
    "\n",
    "x = np.random.rand(4, 4)\n",
    "y = np.random.rand(4, 4)\n",
    "\n",
    "#ax.scatter(x, y, size, colar)  size可以=15.0； colar可以是一个ndarray，对应每一个点的颜色，值可以是1，2，3，4\n",
    "ax.scatter(x, y)\n"
   ]
  },
  {
   "cell_type": "code",
   "execution_count": null,
   "id": "a89c06ab",
   "metadata": {},
   "outputs": [],
   "source": []
  }
 ],
 "metadata": {
  "kernelspec": {
   "display_name": "Python 3 (ipykernel)",
   "language": "python",
   "name": "python3"
  },
  "language_info": {
   "codemirror_mode": {
    "name": "ipython",
    "version": 3
   },
   "file_extension": ".py",
   "mimetype": "text/x-python",
   "name": "python",
   "nbconvert_exporter": "python",
   "pygments_lexer": "ipython3",
   "version": "3.9.12"
  }
 },
 "nbformat": 4,
 "nbformat_minor": 5
}
